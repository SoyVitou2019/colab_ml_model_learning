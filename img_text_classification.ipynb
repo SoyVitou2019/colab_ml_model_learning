{
 "cells": [
  {
   "cell_type": "code",
   "execution_count": null,
   "metadata": {},
   "outputs": [],
   "source": [
    "import tensorflow as tf\n",
    "from tensorflow.keras import layers, models\n",
    "from tensorflow.keras.preprocessing.image import ImageDataGenerator\n",
    "# Split the data into training and testing sets\n",
    "from sklearn.model_selection import train_test_split\n",
    "import pickle\n",
    "import keras\n",
    "from keras import ops\n",
    "import matplotlib.pyplot as plt\n",
    "import numpy as np\n",
    "import os\n",
    "import cv2"
   ]
  },
  {
   "cell_type": "markdown",
   "metadata": {},
   "source": [
    "##### image preparation"
   ]
  },
  {
   "cell_type": "code",
   "execution_count": null,
   "metadata": {},
   "outputs": [],
   "source": [
    "# Define your categories\n",
    "CATEGORIES = [\"enjoying\", \"studying\"]\n",
    "CATEGORIESDIR = \"D:\\Github\\Activity.tracking_model\\dataset\"\n",
    "IMG_SIZE = 224\n",
    "training_data = []\n",
    "\n",
    "for category in CATEGORIES:\n",
    "    path = os.path.join(CATEGORIESDIR, category)\n",
    "    class_num = CATEGORIES.index(category)\n",
    "    for img in os.listdir(path):\n",
    "        try:\n",
    "            img_array = cv2.imread(os.path.join(path, img))\n",
    "            new_array = cv2.resize(img_array, (IMG_SIZE, IMG_SIZE))\n",
    "            training_data.append([new_array, class_num])\n",
    "        except Exception as e:\n",
    "            pass\n",
    "# Shuffle the training data\n",
    "np.random.shuffle(training_data)\n",
    "\n",
    "\n",
    "# Separate features and labels\n",
    "x = []\n",
    "y = []\n",
    "\n",
    "for features, label in training_data:\n",
    "    x.append(features)\n",
    "    y.append(label)\n",
    "\n",
    "# Convert lists to numpy arrays\n",
    "x = np.array(x).reshape(-1, IMG_SIZE, IMG_SIZE, 3)\n",
    "y = np.array(y).reshape(-1, 1)\n",
    "\n",
    "x_train, x_test, y_train, y_test = train_test_split(x, y, test_size=0.2, random_state=42)\n",
    "\n",
    "# Print the shapes of the arrays\n",
    "print(f\"x_train shape: {x_train.shape} - y_train shape: {y_train.shape}\")\n",
    "print(f\"x_test shape: {x_test.shape} - y_test shape: {y_test.shape}\")"
   ]
  },
  {
   "cell_type": "markdown",
   "metadata": {},
   "source": [
    "##### text preparation"
   ]
  },
  {
   "cell_type": "code",
   "execution_count": null,
   "metadata": {},
   "outputs": [],
   "source": []
  }
 ],
 "metadata": {
  "language_info": {
   "name": "python"
  }
 },
 "nbformat": 4,
 "nbformat_minor": 2
}
